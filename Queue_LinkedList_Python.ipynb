{
 "cells": [
  {
   "cell_type": "code",
   "execution_count": 1,
   "metadata": {},
   "outputs": [
    {
     "name": "stdout",
     "output_type": "stream",
     "text": [
      "0\n",
      "1\n",
      "2\n",
      "None\n"
     ]
    }
   ],
   "source": [
    "class Node:\n",
    "    def __init__(self,data):\n",
    "        self.data = data\n",
    "        self.next = None\n",
    "        return\n",
    "\n",
    "class Queue:\n",
    "    def __init__(self):\n",
    "        self.front = None\n",
    "        self.rear = None\n",
    "        return\n",
    "    \n",
    "    def Push(self,data):\n",
    "        node = Node(data)\n",
    "        if self.rear == None:\n",
    "            self.front = node\n",
    "            self.rear = node\n",
    "        else:\n",
    "            self.rear.next = node\n",
    "            self.rear = node\n",
    "        return\n",
    "    \n",
    "    def Pop(self):\n",
    "        if self.front == None:\n",
    "            return None\n",
    "        else:\n",
    "            temp = self.front\n",
    "            node_data = temp.data\n",
    "            self.front = self.front.next\n",
    "            del temp\n",
    "            return node_data\n",
    "    \n",
    "    def Front(self):\n",
    "        if self.front == None:\n",
    "            return None\n",
    "        else:\n",
    "            return self.front.data\n",
    "    \n",
    "    def Back(self):\n",
    "        if self.rear == None:\n",
    "            return None\n",
    "        else:\n",
    "            return self.rear.data\n",
    "    \n",
    "if __name__ == \"__main__\":\n",
    "    Queue = Queue()\n",
    "    for i in range(3):\n",
    "        Queue.Push(i)\n",
    "    \n",
    "    for i in range(4):\n",
    "        print(Queue.Pop())"
   ]
  }
 ],
 "metadata": {
  "kernelspec": {
   "display_name": "Python 3",
   "language": "python",
   "name": "python3"
  },
  "language_info": {
   "codemirror_mode": {
    "name": "ipython",
    "version": 3
   },
   "file_extension": ".py",
   "mimetype": "text/x-python",
   "name": "python",
   "nbconvert_exporter": "python",
   "pygments_lexer": "ipython3",
   "version": "3.8.5"
  }
 },
 "nbformat": 4,
 "nbformat_minor": 4
}
