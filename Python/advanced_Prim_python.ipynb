{
 "cells": [
  {
   "cell_type": "code",
   "execution_count": 20,
   "metadata": {},
   "outputs": [
    {
     "name": "stdout",
     "output_type": "stream",
     "text": [
      "([(0, 'A', 'A'), (5, 'D', 'A'), (6, 'F', 'D'), (7, 'B', 'A'), (7, 'E', 'D'), (5, 'C', 'E'), (9, 'G', 'E')], 39)\n"
     ]
    }
   ],
   "source": [
    "from heapdict import heapdict\n",
    "\n",
    "def advanced_prim(graph, start):\n",
    "    mst , keys , total_weight, path_info = list(), heapdict(), 0 , dict()\n",
    "    for node in graph.keys():\n",
    "        keys[node] = float('inf')\n",
    "        path_info[node] = None\n",
    "    keys[start] , path_info[start] = 0 , start\n",
    "    \n",
    "    while keys:\n",
    "        curr_node , curr_key = keys.popitem()\n",
    "        mst.append((curr_key, curr_node, path_info[curr_node]))\n",
    "        total_weight += curr_key\n",
    "        \n",
    "        for adjacent, weight in graph[curr_node].items():\n",
    "            if adjacent in keys and weight < keys[adjacent]:\n",
    "                keys[adjacent] = weight\n",
    "                path_info[adjacent] = curr_node\n",
    "    return mst, total_weight\n",
    "    \n",
    "if __name__ == \"__main__\":\n",
    "    mygraph = {\n",
    "    'A': {'B': 7, 'D': 5},\n",
    "    'B': {'A': 7, 'D': 9, 'C': 8, 'E': 7},\n",
    "    'C': {'B': 8, 'E': 5},\n",
    "    'D': {'A': 5, 'B': 9, 'E': 7, 'F': 6},\n",
    "    'E': {'B': 7, 'C': 5, 'D': 7, 'F': 8, 'G': 9},\n",
    "    'F': {'D': 6, 'E': 8, 'G': 11},\n",
    "    'G': {'E': 9, 'F': 11}    \n",
    "    }\n",
    "    print(advanced_prim(mygraph, 'A'))"
   ]
  }
 ],
 "metadata": {
  "kernelspec": {
   "display_name": "Python 3",
   "language": "python",
   "name": "python3"
  },
  "language_info": {
   "codemirror_mode": {
    "name": "ipython",
    "version": 3
   },
   "file_extension": ".py",
   "mimetype": "text/x-python",
   "name": "python",
   "nbconvert_exporter": "python",
   "pygments_lexer": "ipython3",
   "version": "3.8.5"
  }
 },
 "nbformat": 4,
 "nbformat_minor": 4
}
