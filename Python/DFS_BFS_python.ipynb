{
 "cells": [
  {
   "cell_type": "code",
   "execution_count": 1,
   "metadata": {},
   "outputs": [
    {
     "name": "stdout",
     "output_type": "stream",
     "text": [
      "['A', 'C', 'I', 'J', 'H', 'G', 'B', 'D', 'F', 'E']\n",
      "['A', 'B', 'C', 'D', 'G', 'H', 'I', 'E', 'F', 'J']\n"
     ]
    }
   ],
   "source": [
    "def dfs(graph, start_node):\n",
    "    visited , dfs_list = list(), list()\n",
    "    dfs_list.append(start_node)\n",
    "    \n",
    "    while dfs_list:\n",
    "        curr_node = dfs_list.pop()\n",
    "        if curr_node not in visited:\n",
    "            visited.append(curr_node)\n",
    "            dfs_list.extend(graph[curr_node])\n",
    "    return visited\n",
    "\n",
    "def bfs(graph, start_node):\n",
    "    visited , bfs_list = list(), list()\n",
    "    bfs_list.append(start_node)\n",
    "    \n",
    "    while bfs_list:\n",
    "        curr_node = bfs_list.pop(0)\n",
    "        if curr_node not in visited:\n",
    "            visited.append(curr_node)\n",
    "            bfs_list.extend(graph[curr_node])\n",
    "    return visited\n",
    "\n",
    "if __name__ == \"__main__\":\n",
    "    graph = dict()\n",
    "\n",
    "    graph['A'] = ['B', 'C']\n",
    "    graph['B'] = ['A', 'D']\n",
    "    graph['C'] = ['A', 'G', 'H', 'I']\n",
    "    graph['D'] = ['B', 'E', 'F']\n",
    "    graph['E'] = ['D']\n",
    "    graph['F'] = ['D']\n",
    "    graph['G'] = ['C']\n",
    "    graph['H'] = ['C']\n",
    "    graph['I'] = ['C', 'J']\n",
    "    graph['J'] = ['I']\n",
    "    \n",
    "    print(dfs(graph,'A'))\n",
    "    print(bfs(graph,'A'))"
   ]
  }
 ],
 "metadata": {
  "kernelspec": {
   "display_name": "Python 3",
   "language": "python",
   "name": "python3"
  },
  "language_info": {
   "codemirror_mode": {
    "name": "ipython",
    "version": 3
   },
   "file_extension": ".py",
   "mimetype": "text/x-python",
   "name": "python",
   "nbconvert_exporter": "python",
   "pygments_lexer": "ipython3",
   "version": "3.8.5"
  }
 },
 "nbformat": 4,
 "nbformat_minor": 4
}
