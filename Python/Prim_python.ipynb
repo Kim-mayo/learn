{
 "cells": [
  {
   "cell_type": "code",
   "execution_count": 9,
   "metadata": {},
   "outputs": [
    {
     "name": "stdout",
     "output_type": "stream",
     "text": [
      "([(5, 'A', 'D'), (6, 'D', 'F'), (7, 'A', 'B'), (7, 'B', 'E'), (5, 'E', 'C'), (9, 'E', 'G')], 39)\n"
     ]
    }
   ],
   "source": [
    "import heapq\n",
    "from collections import defaultdict\n",
    "\n",
    "def prim(graph, start):\n",
    "    edge = defaultdict(list)\n",
    "    for weight, u, v in graph:\n",
    "        edge[u].append((weight,u,v))\n",
    "        edge[v].append((weight,v,u))\n",
    "    \n",
    "    visited = {vertex : False for vertex in edge.keys()}\n",
    "    visited[start] = True\n",
    "    queue , MST = [] , []\n",
    "    total_weight = 0\n",
    "    \n",
    "    for info in edge[start]:\n",
    "        heapq.heappush(queue, info)\n",
    "    \n",
    "    while queue:\n",
    "        weight , curr_node, next_node = heapq.heappop(queue)\n",
    "        if visited[next_node] == True:\n",
    "            continue\n",
    "        visited[next_node] = True\n",
    "        total_weight += weight\n",
    "        MST.append((weight, curr_node, next_node))\n",
    "        \n",
    "        for info in edge[next_node]:\n",
    "            heapq.heappush(queue, info)\n",
    "    return MST, total_weight\n",
    "    \n",
    "\n",
    "if __name__ == \"__main__\":\n",
    "    myedges = [\n",
    "    (7, 'A', 'B'), (5, 'A', 'D'),\n",
    "    (8, 'B', 'C'), (9, 'B', 'D'), (7, 'B', 'E'),\n",
    "    (5, 'C', 'E'),\n",
    "    (7, 'D', 'E'), (6, 'D', 'F'),\n",
    "    (8, 'E', 'F'), (9, 'E', 'G'),\n",
    "    (11, 'F', 'G')\n",
    "    ]\n",
    "    print(prim(myedges, 'A'))"
   ]
  }
 ],
 "metadata": {
  "kernelspec": {
   "display_name": "Python 3",
   "language": "python",
   "name": "python3"
  },
  "language_info": {
   "codemirror_mode": {
    "name": "ipython",
    "version": 3
   },
   "file_extension": ".py",
   "mimetype": "text/x-python",
   "name": "python",
   "nbconvert_exporter": "python",
   "pygments_lexer": "ipython3",
   "version": "3.8.5"
  }
 },
 "nbformat": 4,
 "nbformat_minor": 4
}
