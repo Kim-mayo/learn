{
 "cells": [
  {
   "cell_type": "code",
   "execution_count": 2,
   "metadata": {},
   "outputs": [
    {
     "name": "stdout",
     "output_type": "stream",
     "text": [
      "4\n",
      "[[[0, 1], [1, 3], [2, 0], [3, 2]], [[0, 2], [1, 0], [2, 3], [3, 1]]]\n"
     ]
    }
   ],
   "source": [
    "def is_available(row, col, current_list):\n",
    "    for pick_row, pick_col in current_list:\n",
    "        if pick_col == col or abs(pick_row-row) == abs(pick_col - col):\n",
    "            return False\n",
    "    return True\n",
    "def solve(curr_row, max_row, final_result, current_list):\n",
    "    if curr_row == max_row:\n",
    "        final_result.append(current_list[:])\n",
    "        return\n",
    "    \n",
    "    for candidate_col in range(max_row):\n",
    "        if is_available(curr_row, candidate_col, current_list):\n",
    "            current_list.append([curr_row, candidate_col])\n",
    "            solve(curr_row+1, max_row, final_result, current_list)\n",
    "            current_list.pop()\n",
    "    return\n",
    "\n",
    "if __name__ == \"__main__\":\n",
    "    final_result , current_list = [], []\n",
    "    N = int(input())\n",
    "    solve(0, N ,final_result, current_list)\n",
    "    print(final_result)"
   ]
  }
 ],
 "metadata": {
  "kernelspec": {
   "display_name": "Python 3",
   "language": "python",
   "name": "python3"
  },
  "language_info": {
   "codemirror_mode": {
    "name": "ipython",
    "version": 3
   },
   "file_extension": ".py",
   "mimetype": "text/x-python",
   "name": "python",
   "nbconvert_exporter": "python",
   "pygments_lexer": "ipython3",
   "version": "3.8.5"
  }
 },
 "nbformat": 4,
 "nbformat_minor": 4
}
