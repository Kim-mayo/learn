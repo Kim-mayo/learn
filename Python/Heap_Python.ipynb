{
 "cells": [
  {
   "cell_type": "code",
   "execution_count": 7,
   "metadata": {},
   "outputs": [
    {
     "name": "stdout",
     "output_type": "stream",
     "text": [
      "99\n",
      "[None, 10, 9, 5, 6, 8, 1, 4, 0, 3, 2, 7]\n"
     ]
    }
   ],
   "source": [
    "class Heap:\n",
    "    def __init__(self):\n",
    "        self.Heap = list()\n",
    "        self.Heap.append(None)\n",
    "        return\n",
    "    \n",
    "    def insert(self,data):\n",
    "        \n",
    "        self.Heap.append(data)\n",
    "        curr = len(self.Heap)-1\n",
    "        \n",
    "        while curr != 1 and curr > 0:\n",
    "            parent = curr//2\n",
    "            if self.Heap[parent] < self.Heap[curr]:\n",
    "                self.Heap[parent], self.Heap[curr] = self.Heap[curr] , self.Heap[parent]\n",
    "                curr= parent\n",
    "            else:\n",
    "                break\n",
    "        return\n",
    "    \n",
    "    def delete(self):\n",
    "        \n",
    "        self.Heap[1] = self.Heap[-1]\n",
    "        del self.Heap[-1]\n",
    "        \n",
    "        heapsize = len(self.Heap)-1\n",
    "        root = 1\n",
    "        \n",
    "        while True:\n",
    "            left_child = root*2\n",
    "            right_child = root*2+1\n",
    "            \n",
    "            if left_child > heapsize:\n",
    "                break\n",
    "            elif right_child > heapsize:\n",
    "                if self.Heap[left_child] > self.Heap[root]:\n",
    "                    self.Heap[left_child] , self.Heap[root] = self.Heap[root] , self.Heap[left_child]\n",
    "                    root = left_child\n",
    "                else:\n",
    "                    break\n",
    "            else:\n",
    "                if self.Heap[left_child] < self.Heap[right_child]:\n",
    "                    if self.Heap[right_child] > self.Heap[root]:\n",
    "                        self.Heap[right_child] , self.Heap[root] = self.Heap[root] , self.Heap[right_child]\n",
    "                        root = right_child\n",
    "                    else:\n",
    "                        break\n",
    "                else:\n",
    "                    if self.Heap[left_child] > self.Heap[root]:\n",
    "                        self.Heap[left_child] , self.Heap[root] = self.Heap[root] , self.Heap[left_child]\n",
    "                        root = left_child\n",
    "                    else:\n",
    "                        break\n",
    "                        \n",
    "        return\n",
    "    def Top(self):\n",
    "        if len(self.Heap) <= 1:\n",
    "            return None\n",
    "        else:\n",
    "            return self.Heap[1]\n",
    "\n",
    "if __name__ == \"__main__\":\n",
    "    Heap = Heap()\n",
    "    \n",
    "    for i in range(0,100):\n",
    "        Heap.insert(i)\n",
    "    \n",
    "    print(Heap.Top())\n",
    "    \n",
    "    for i in range(99,10,-1):\n",
    "        Heap.delete()\n",
    "    \n",
    "    print(Heap.Heap)\n",
    "        \n",
    "            "
   ]
  }
 ],
 "metadata": {
  "kernelspec": {
   "display_name": "Python 3",
   "language": "python",
   "name": "python3"
  },
  "language_info": {
   "codemirror_mode": {
    "name": "ipython",
    "version": 3
   },
   "file_extension": ".py",
   "mimetype": "text/x-python",
   "name": "python",
   "nbconvert_exporter": "python",
   "pygments_lexer": "ipython3",
   "version": "3.8.5"
  }
 },
 "nbformat": 4,
 "nbformat_minor": 4
}
