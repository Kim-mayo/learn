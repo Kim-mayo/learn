{
 "cells": [
  {
   "cell_type": "code",
   "execution_count": 15,
   "metadata": {
    "scrolled": true
   },
   "outputs": [
    {
     "name": "stdout",
     "output_type": "stream",
     "text": [
      "A -> D -> E -> F\n",
      "{'A': [0, 'A'], 'B': [6, 'C'], 'C': [1, 'A'], 'D': [2, 'A'], 'E': [5, 'D'], 'F': [6, 'E']}\n"
     ]
    }
   ],
   "source": [
    "import heapq\n",
    "def dijkstra(graph, start,end):\n",
    "    dist = {vertex : [float('inf'),start] for vertex in graph}\n",
    "    dist[start] = [0 , start]\n",
    "    queue = []\n",
    "    heapq.heappush(queue, [dist[start][0], start]) \n",
    "    \n",
    "    while queue:\n",
    "        curr_dist , curr_node = heapq.heappop(queue)\n",
    "        if dist[curr_node][0] < curr_dist:\n",
    "            continue\n",
    "        \n",
    "        for adjacent , weight in graph[curr_node].items():\n",
    "            distance = weight + curr_dist\n",
    "            \n",
    "            if distance < dist[adjacent][0]:\n",
    "                dist[adjacent] = [distance, curr_node]\n",
    "                heapq.heappush(queue, [dist[adjacent][0] , adjacent])\n",
    "    path = end\n",
    "    pathoutput = [path]\n",
    "    while dist[path][1] != start:\n",
    "        pathoutput.append(dist[path][1])\n",
    "        path = dist[path][1]\n",
    "    pathoutput.append(start)\n",
    "    pathoutput.reverse()\n",
    "    print(' -> '.join(map(str,pathoutput)))\n",
    "    \n",
    "    return dist\n",
    "if __name__ == \"__main__\":\n",
    "    mygraph = {\n",
    "    'A': {'B': 8, 'C': 1, 'D': 2},\n",
    "    'B': {},\n",
    "    'C': {'B': 5, 'D': 2},\n",
    "    'D': {'E': 3, 'F': 5},\n",
    "    'E': {'F': 1},\n",
    "    'F': {'A': 5}\n",
    "    }\n",
    "    \n",
    "    print(dijkstra(mygraph, 'A', 'F'))"
   ]
  }
 ],
 "metadata": {
  "kernelspec": {
   "display_name": "Python 3",
   "language": "python",
   "name": "python3"
  },
  "language_info": {
   "codemirror_mode": {
    "name": "ipython",
    "version": 3
   },
   "file_extension": ".py",
   "mimetype": "text/x-python",
   "name": "python",
   "nbconvert_exporter": "python",
   "pygments_lexer": "ipython3",
   "version": "3.8.5"
  }
 },
 "nbformat": 4,
 "nbformat_minor": 4
}
