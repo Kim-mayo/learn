{
 "cells": [
  {
   "cell_type": "code",
   "execution_count": 3,
   "metadata": {},
   "outputs": [
    {
     "name": "stdout",
     "output_type": "stream",
     "text": [
      "3\n",
      "3\n",
      "2\n",
      "1\n",
      "None\n"
     ]
    }
   ],
   "source": [
    "class Node:\n",
    "    def __init__(self,data):\n",
    "        self.data = data\n",
    "        self.next = None\n",
    "        return\n",
    "    \n",
    "class Stack:\n",
    "    def __init__(self):\n",
    "        self.head = None\n",
    "        return\n",
    "    \n",
    "    def is_empty(self):\n",
    "        if self.head == None:\n",
    "            return True\n",
    "        else:\n",
    "            return False\n",
    "    \n",
    "    def Push(self,data):\n",
    "        node = Node(data)\n",
    "        node.next = self.head\n",
    "        self.head = node\n",
    "        return\n",
    "    \n",
    "    def Pop(self):\n",
    "        if self.is_empty() == True:\n",
    "            return None\n",
    "        else:\n",
    "            temp = self.head\n",
    "            curr_data = temp.data \n",
    "            self.head = self.head.next\n",
    "            del temp\n",
    "            return curr_data\n",
    "            \n",
    "    def peek(self):\n",
    "        if self.is_empty() == True:\n",
    "            return None\n",
    "        else:\n",
    "            return self.head.data\n",
    "        \n",
    "if __name__ == \"__main__\":\n",
    "    \n",
    "    Stack = Stack()\n",
    "    Stack.Push(1)\n",
    "    Stack.Push(2)\n",
    "    Stack.Push(3)\n",
    "    \n",
    "    print(Stack.peek())\n",
    "    print(Stack.Pop())\n",
    "    print(Stack.Pop())\n",
    "    print(Stack.Pop())\n",
    "    print(Stack.Pop())"
   ]
  }
 ],
 "metadata": {
  "kernelspec": {
   "display_name": "Python 3",
   "language": "python",
   "name": "python3"
  },
  "language_info": {
   "codemirror_mode": {
    "name": "ipython",
    "version": 3
   },
   "file_extension": ".py",
   "mimetype": "text/x-python",
   "name": "python",
   "nbconvert_exporter": "python",
   "pygments_lexer": "ipython3",
   "version": "3.8.5"
  }
 },
 "nbformat": 4,
 "nbformat_minor": 4
}
