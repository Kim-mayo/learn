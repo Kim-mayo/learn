{
 "cells": [
  {
   "cell_type": "code",
   "execution_count": 29,
   "metadata": {},
   "outputs": [
    {
     "name": "stdout",
     "output_type": "stream",
     "text": [
      "2 3 1\n",
      "11\n"
     ]
    }
   ],
   "source": [
    "import sys\n",
    "sys.setrecursionlimit(1234567)\n",
    "count = -1\n",
    "def Z(lx, ly, rx, ry, r,c):\n",
    "    global count\n",
    "    if lx == rx and ly == ry:\n",
    "        count += 1\n",
    "        if lx  == r and ly == c:\n",
    "            print(count)\n",
    "        return\n",
    "    midx = (lx+rx)//2\n",
    "    midy = (ly+ry)//2\n",
    "    value = (midx-lx+1)*(midy-ly+1)\n",
    "    if lx <= r and r<= midx and ly<= c and c<= midy:\n",
    "        Z(lx,ly,midx,midy,r,c)\n",
    "        return\n",
    "    elif lx<=r and r<= midx and midy+1 <= c and c<= ry:\n",
    "        count += value\n",
    "        Z(lx,midy+1, midx , ry,r,c)\n",
    "        return\n",
    "    elif midx+1 <=r and r<= rx and ly <= c and c<= midy:\n",
    "        count += 2*value\n",
    "        Z(midx+1,ly,rx , midy, r,c)\n",
    "        return\n",
    "    else:\n",
    "        count += 3*value\n",
    "        Z(midx+1,midy+1,rx,ry,r,c)\n",
    "        return\n",
    "    \n",
    "\n",
    "N,r,c= map(int,input().split())\n",
    "Z(0,0,(2**N)-1, (2**N)-1 , r , c)"
   ]
  }
 ],
 "metadata": {
  "kernelspec": {
   "display_name": "Python 3",
   "language": "python",
   "name": "python3"
  },
  "language_info": {
   "codemirror_mode": {
    "name": "ipython",
    "version": 3
   },
   "file_extension": ".py",
   "mimetype": "text/x-python",
   "name": "python",
   "nbconvert_exporter": "python",
   "pygments_lexer": "ipython3",
   "version": "3.8.5"
  }
 },
 "nbformat": 4,
 "nbformat_minor": 4
}
