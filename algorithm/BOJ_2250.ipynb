{
 "cells": [
  {
   "cell_type": "code",
   "execution_count": 7,
   "metadata": {},
   "outputs": [
    {
     "name": "stdout",
     "output_type": "stream",
     "text": [
      "19\n",
      "1 2 3\n",
      "2 4 5\n",
      "3 6 7\n",
      "4 8 -1\n",
      "5 9 10\n",
      "6 11 12\n",
      "7 13 -1\n",
      "8 -1 -1\n",
      "9 14 15\n",
      "10 -1 -1\n",
      "11 16 -1\n",
      "12 -1 -1\n",
      "13 17 -1\n",
      "14 -1 -1\n",
      "15 18 -1\n",
      "16 -1 -1\n",
      "17 -1 19\n",
      "18 -1 -1\n",
      "19 -1 -1\n",
      "3 18\n"
     ]
    }
   ],
   "source": [
    "import sys\n",
    "sys.setrecursionlimit(10**6)\n",
    "N = int(sys.stdin.readline())\n",
    "level = [ []  for i in range(N+1)]\n",
    "col_count =  1\n",
    "graph = dict()\n",
    "root = dict()\n",
    "\n",
    "def inorder(curr,level_count):\n",
    "    if graph[curr][0] != -1:\n",
    "        inorder(graph[curr][0],level_count + 1)\n",
    "    global col_count\n",
    "    level[level_count].append(col_count)\n",
    "    col_count += 1\n",
    "    if graph[curr][1] != -1:\n",
    "        inorder(graph[curr][1] , level_count + 1)\n",
    "\n",
    "for _ in range(N):\n",
    "    A , B , C = map(int, sys.stdin.readline().split())\n",
    "    graph[A] = (B,C)\n",
    "    root[B] , root[C] = A , A\n",
    "root_number = 0\n",
    "for i in range(1,N+1):\n",
    "    if i not in root:\n",
    "        root_number = i\n",
    "        break\n",
    "level_count = 0\n",
    "inorder(root_number,level_count)\n",
    "min_index, min_breath = -1, -1\n",
    "for _ in range(0,N+1):\n",
    "    if len(level[_]) == 0:\n",
    "        continue\n",
    "    curr_breath = level[_][-1] - level[_][0] + 1\n",
    "    if min_breath < curr_breath:\n",
    "        min_index = _\n",
    "        min_breath = curr_breath\n",
    "print(min_index+1 , min_breath)"
   ]
  }
 ],
 "metadata": {
  "kernelspec": {
   "display_name": "Python 3",
   "language": "python",
   "name": "python3"
  },
  "language_info": {
   "codemirror_mode": {
    "name": "ipython",
    "version": 3
   },
   "file_extension": ".py",
   "mimetype": "text/x-python",
   "name": "python",
   "nbconvert_exporter": "python",
   "pygments_lexer": "ipython3",
   "version": "3.8.5"
  }
 },
 "nbformat": 4,
 "nbformat_minor": 4
}
