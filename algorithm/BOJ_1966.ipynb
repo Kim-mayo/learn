{
 "cells": [
  {
   "cell_type": "code",
   "execution_count": 13,
   "metadata": {},
   "outputs": [
    {
     "name": "stdout",
     "output_type": "stream",
     "text": [
      "3\n",
      "1 0\n",
      "5\n",
      "1\n",
      "4 2\n",
      "1 2 3 4\n",
      "2\n",
      "6 0\n",
      "1 1 9 1 1 1\n",
      "5\n"
     ]
    }
   ],
   "source": [
    "import heapq\n",
    "TC = int(input())\n",
    "for _ in range(TC):\n",
    "    N , M = map(int, input().split())\n",
    "    Printer_queue = []\n",
    "    heap = []\n",
    "    rank = list(map(int, input().split()))\n",
    "    for i in range(0, N):\n",
    "        Printer_queue.append([i,rank[i]])\n",
    "        heapq.heappush(heap, -rank[i])\n",
    "    count = 1\n",
    "    \n",
    "    while Printer_queue:\n",
    "        \n",
    "        if -heap[0] != Printer_queue[0][1]:\n",
    "            Printer_queue.append(Printer_queue[0])\n",
    "            Printer_queue.pop(0)\n",
    "        else:\n",
    "            if Printer_queue[0][0] == M:\n",
    "                break\n",
    "            else:\n",
    "                Printer_queue.pop(0)\n",
    "                heapq.heappop(heap)\n",
    "                count += 1\n",
    "    print(count)"
   ]
  }
 ],
 "metadata": {
  "kernelspec": {
   "display_name": "Python 3",
   "language": "python",
   "name": "python3"
  },
  "language_info": {
   "codemirror_mode": {
    "name": "ipython",
    "version": 3
   },
   "file_extension": ".py",
   "mimetype": "text/x-python",
   "name": "python",
   "nbconvert_exporter": "python",
   "pygments_lexer": "ipython3",
   "version": "3.8.5"
  }
 },
 "nbformat": 4,
 "nbformat_minor": 4
}
