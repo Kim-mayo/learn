{
 "cells": [
  {
   "cell_type": "code",
   "execution_count": 5,
   "metadata": {},
   "outputs": [
    {
     "name": "stdout",
     "output_type": "stream",
     "text": [
      "6\n",
      "10 20 10 30 20 50\n",
      "[1, 2, 1, 3, 2, 4]\n",
      "4\n"
     ]
    }
   ],
   "source": [
    "import sys\n",
    "N = int(sys.stdin.readline())\n",
    "A = list(map(int,sys.stdin.readline().split()))\n",
    "DP = [0]*N\n",
    "for i in range(0,N):\n",
    "    max_value = 0\n",
    "    for j in range(i-1,-1,-1):\n",
    "        if A[i] > A[j]:\n",
    "            if max_value < DP[j]:\n",
    "                max_value = DP[j]\n",
    "    DP[i] = max_value + 1\n",
    "    \n",
    "print(max(DP))"
   ]
  }
 ],
 "metadata": {
  "kernelspec": {
   "display_name": "Python 3",
   "language": "python",
   "name": "python3"
  },
  "language_info": {
   "codemirror_mode": {
    "name": "ipython",
    "version": 3
   },
   "file_extension": ".py",
   "mimetype": "text/x-python",
   "name": "python",
   "nbconvert_exporter": "python",
   "pygments_lexer": "ipython3",
   "version": "3.8.5"
  }
 },
 "nbformat": 4,
 "nbformat_minor": 4
}
