{
 "cells": [
  {
   "cell_type": "code",
   "execution_count": 18,
   "metadata": {},
   "outputs": [
    {
     "name": "stdout",
     "output_type": "stream",
     "text": [
      "4 2\n",
      "4 2\n",
      "3 1\n",
      "3 1 4 2 "
     ]
    }
   ],
   "source": [
    "import sys\n",
    "import heapq\n",
    "graph = {}\n",
    "heap = []\n",
    "N ,M = map(int, sys.stdin.readline().split())\n",
    "inQ = [0 for i in range(N+1)]\n",
    "for _ in range(M):\n",
    "    A, B = map(int, sys.stdin.readline().split())\n",
    "    inQ[B] += 1\n",
    "    if A not in graph:\n",
    "        graph[A] =[]\n",
    "    graph[A].append(B)\n",
    "for i in range(1,N+1):\n",
    "    if inQ[i] == 0:\n",
    "        heapq.heappush(heap, i)\n",
    "while heap:\n",
    "    curr = heapq.heappop(heap)\n",
    "    print(curr, end= \" \")\n",
    "    \n",
    "    if curr in graph.keys():\n",
    "        key_list = graph[curr]\n",
    "        for i in key_list:\n",
    "            inQ[i] -= 1\n",
    "            if inQ[i] == 0:\n",
    "                heapq.heappush(heap,i)"
   ]
  }
 ],
 "metadata": {
  "kernelspec": {
   "display_name": "Python 3",
   "language": "python",
   "name": "python3"
  },
  "language_info": {
   "codemirror_mode": {
    "name": "ipython",
    "version": 3
   },
   "file_extension": ".py",
   "mimetype": "text/x-python",
   "name": "python",
   "nbconvert_exporter": "python",
   "pygments_lexer": "ipython3",
   "version": "3.8.5"
  }
 },
 "nbformat": 4,
 "nbformat_minor": 4
}
