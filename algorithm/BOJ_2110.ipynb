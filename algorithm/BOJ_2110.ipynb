{
 "cells": [
  {
   "cell_type": "code",
   "execution_count": 9,
   "metadata": {},
   "outputs": [
    {
     "name": "stdout",
     "output_type": "stream",
     "text": [
      "5 3\n",
      "1\n",
      "2\n",
      "4\n",
      "8\n",
      "9\n",
      "3\n"
     ]
    }
   ],
   "source": [
    "import sys\n",
    "N,C = map(int, sys.stdin.readline().split())\n",
    "arr = []\n",
    "for _ in range(N):\n",
    "    arr.append(int(sys.stdin.readline()))\n",
    "arr.sort()\n",
    "lo, hi ,result = 0, 1000000000 , 0\n",
    "while lo <= hi:\n",
    "    mid = (lo+hi)//2\n",
    "    count = 1\n",
    "    value = arr[0]\n",
    "    for i in range(1,len(arr)):\n",
    "        if arr[i] >= value + mid:\n",
    "            count += 1\n",
    "            value = arr[i]\n",
    "    if count >= C:\n",
    "        lo = mid+1\n",
    "        result = mid\n",
    "    else:\n",
    "        hi = mid-1\n",
    "    \n",
    "print(result)"
   ]
  }
 ],
 "metadata": {
  "kernelspec": {
   "display_name": "Python 3",
   "language": "python",
   "name": "python3"
  },
  "language_info": {
   "codemirror_mode": {
    "name": "ipython",
    "version": 3
   },
   "file_extension": ".py",
   "mimetype": "text/x-python",
   "name": "python",
   "nbconvert_exporter": "python",
   "pygments_lexer": "ipython3",
   "version": "3.8.5"
  }
 },
 "nbformat": 4,
 "nbformat_minor": 4
}
