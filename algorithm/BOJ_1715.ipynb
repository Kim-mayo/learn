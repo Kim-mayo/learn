{
 "cells": [
  {
   "cell_type": "code",
   "execution_count": null,
   "metadata": {},
   "outputs": [],
   "source": [
    "import sys\n",
    "import heapq\n",
    "N = int(sys.stdin.readline())\n",
    "heap = []\n",
    "for _ in range(N):\n",
    "    heapq.heappush(heap,int(sys.stdin.readline()))\n",
    "result = 0\n",
    "while len(heap) >=2:\n",
    "    A = heapq.heappop(heap)\n",
    "    B = heapq.heappop(heap)\n",
    "    heapq.heappush(heap,A+B)\n",
    "    result += (A+B)\n",
    "print(result)"
   ]
  }
 ],
 "metadata": {
  "kernelspec": {
   "display_name": "Python 3",
   "language": "python",
   "name": "python3"
  },
  "language_info": {
   "codemirror_mode": {
    "name": "ipython",
    "version": 3
   },
   "file_extension": ".py",
   "mimetype": "text/x-python",
   "name": "python",
   "nbconvert_exporter": "python",
   "pygments_lexer": "ipython3",
   "version": "3.8.5"
  }
 },
 "nbformat": 4,
 "nbformat_minor": 4
}
