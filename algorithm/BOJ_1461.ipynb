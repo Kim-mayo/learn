{
 "cells": [
  {
   "cell_type": "code",
   "execution_count": 1,
   "metadata": {},
   "outputs": [
    {
     "name": "stdout",
     "output_type": "stream",
     "text": [
      "7 2\n",
      "-39 -37 -29 -28 -6 2 11\n",
      "131\n"
     ]
    }
   ],
   "source": [
    "import sys\n",
    "input = sys.stdin.readline\n",
    "N , M = map(int, input().split())\n",
    "book = list(map(int, input().split()))\n",
    "plus , minus = [] , []\n",
    "for data in book:\n",
    "    if data == 0:\n",
    "        continue\n",
    "    elif data <0:\n",
    "        minus.append(data)\n",
    "    else:\n",
    "        plus.append(data)\n",
    "plus.sort(reverse = True)\n",
    "minus.sort()\n",
    "result = []\n",
    "plus_point,minus_point = 0,0\n",
    "while plus_point < len(plus):\n",
    "    result.append(abs(plus[plus_point]))\n",
    "    plus_point += M\n",
    "while minus_point < len(minus):\n",
    "    result.append(abs(minus[minus_point]))\n",
    "    minus_point += M\n",
    "print(sum(result)*2 - max(result))"
   ]
  }
 ],
 "metadata": {
  "kernelspec": {
   "display_name": "Python 3",
   "language": "python",
   "name": "python3"
  },
  "language_info": {
   "codemirror_mode": {
    "name": "ipython",
    "version": 3
   },
   "file_extension": ".py",
   "mimetype": "text/x-python",
   "name": "python",
   "nbconvert_exporter": "python",
   "pygments_lexer": "ipython3",
   "version": "3.8.5"
  }
 },
 "nbformat": 4,
 "nbformat_minor": 4
}
