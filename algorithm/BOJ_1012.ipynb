{
 "cells": [
  {
   "cell_type": "code",
   "execution_count": 3,
   "metadata": {},
   "outputs": [
    {
     "name": "stdout",
     "output_type": "stream",
     "text": [
      "2\n",
      "10 8 17\n",
      "0 0\n",
      "1 0\n",
      "1 1\n",
      "4 2\n",
      "4 3\n",
      "4 5\n",
      "2 4\n",
      "3 4\n",
      "7 4\n",
      "8 4\n",
      "9 4\n",
      "7 5\n",
      "8 5\n",
      "9 5\n",
      "7 6\n",
      "8 6\n",
      "9 6\n",
      "5\n",
      "10 10 1\n",
      "5 5\n",
      "1\n"
     ]
    }
   ],
   "source": [
    "import sys\n",
    "# 재귀 깊이값 수정 10^4\n",
    "sys.setrecursionlimit(10 ** 4)\n",
    "\n",
    "dx = [-1,0,1,0]\n",
    "dy = [0,1,0,-1]\n",
    "def range_check(nx, ny, M , N):\n",
    "    return 0<=nx and nx<M and 0<=ny and ny<N\n",
    "\n",
    "def DFS(visited, arr, x, y, M , N):\n",
    "    if visited[x][y] == True:\n",
    "        return\n",
    "    visited[x][y] = True\n",
    "    \n",
    "    for i in range(4):\n",
    "        nx = x + dx[i]\n",
    "        ny = y + dy[i]\n",
    "        \n",
    "        if range_check(nx,ny, M , N) == True:\n",
    "            if arr[nx][ny] == 1 and visited[nx][ny] == False:\n",
    "                DFS(visited, arr, nx, ny, M , N)\n",
    "                \n",
    "\n",
    "TC = int(input())\n",
    "for TestCase in range(TC):\n",
    "    M ,N , K = map(int ,input().split())\n",
    "    arr = [ [0 for j in range(N)] for i in range(M)]\n",
    "    visited = [ [False for j in range(N)] for i in range(M) ]\n",
    "    count = 0\n",
    "    for data in range(K):\n",
    "        x , y = map(int, input().split())\n",
    "        arr[x][y] = 1\n",
    "    for i in range(M):\n",
    "        for j in range(N):\n",
    "            if arr[i][j] == 1 and visited[i][j] == False:\n",
    "                count+=1\n",
    "                DFS(visited, arr, i, j , M ,N)\n",
    "    print(count)"
   ]
  }
 ],
 "metadata": {
  "kernelspec": {
   "display_name": "Python 3",
   "language": "python",
   "name": "python3"
  },
  "language_info": {
   "codemirror_mode": {
    "name": "ipython",
    "version": 3
   },
   "file_extension": ".py",
   "mimetype": "text/x-python",
   "name": "python",
   "nbconvert_exporter": "python",
   "pygments_lexer": "ipython3",
   "version": "3.8.5"
  }
 },
 "nbformat": 4,
 "nbformat_minor": 4
}
