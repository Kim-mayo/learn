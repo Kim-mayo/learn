{
 "cells": [
  {
   "cell_type": "code",
   "execution_count": 2,
   "metadata": {},
   "outputs": [
    {
     "name": "stdout",
     "output_type": "stream",
     "text": [
      "7\n",
      "A B C\n",
      "B D .\n",
      "C E F\n",
      "E . .\n",
      "F . G\n",
      "D . .\n",
      "G . .\n",
      "ABDCEFGNone\n",
      "DBAECFGNone\n",
      "DBEGFCANone\n"
     ]
    }
   ],
   "source": [
    "import sys\n",
    "def preorder(graph,node):\n",
    "    print(node, end=\"\")\n",
    "    if graph[node][0] != '.':\n",
    "        preorder(graph, graph[node][0])\n",
    "    if graph[node][1] != '.':\n",
    "        preorder(graph, graph[node][1])\n",
    "    return\n",
    "def inorder(graph, node):\n",
    "    if graph[node][0] != '.':\n",
    "        inorder(graph, graph[node][0])\n",
    "    print(node, end=\"\")\n",
    "    if graph[node][1] != '.':\n",
    "        inorder(graph, graph[node][1])\n",
    "    return\n",
    "def postorder(graph, node):\n",
    "    if graph[node][0] != '.':\n",
    "        postorder(graph, graph[node][0])\n",
    "    if graph[node][1] != '.':\n",
    "        postorder(graph, graph[node][1])\n",
    "    print(node, end=\"\")\n",
    "    return\n",
    "N = int(sys.stdin.readline())\n",
    "graph = dict()\n",
    "for _ in range(N):\n",
    "    A , B , C = sys.stdin.readline().split()\n",
    "    graph[A] = (B,C)\n",
    "preorder(graph,'A')\n",
    "print()\n",
    "\n",
    "inorder(graph,'A')\n",
    "print()\n",
    "\n",
    "postorder(graph,'A')"
   ]
  }
 ],
 "metadata": {
  "kernelspec": {
   "display_name": "Python 3",
   "language": "python",
   "name": "python3"
  },
  "language_info": {
   "codemirror_mode": {
    "name": "ipython",
    "version": 3
   },
   "file_extension": ".py",
   "mimetype": "text/x-python",
   "name": "python",
   "nbconvert_exporter": "python",
   "pygments_lexer": "ipython3",
   "version": "3.8.5"
  }
 },
 "nbformat": 4,
 "nbformat_minor": 4
}
