{
 "cells": [
  {
   "cell_type": "code",
   "execution_count": 13,
   "metadata": {},
   "outputs": [
    {
     "name": "stdout",
     "output_type": "stream",
     "text": [
      "5\n",
      "25 3 4\n",
      "4 4 6\n",
      "9 2 3\n",
      "16 2 5\n",
      "1 5 2\n",
      "3\n",
      "5\n",
      "3\n",
      "1\n"
     ]
    }
   ],
   "source": [
    "import sys\n",
    "N = int(sys.stdin.readline())\n",
    "rocked = [(0,0,0,0)]\n",
    "for _ in range(1,N+1):\n",
    "    S,H,W = map(int, sys.stdin.readline().split())\n",
    "    rocked.append((W,H,S,_))\n",
    "rocked.sort()\n",
    "DP = [0] * len(rocked)\n",
    "for i in range(1,N+1):\n",
    "    \n",
    "    for j in range(0,i):\n",
    "        if rocked[i][2] > rocked[j][2]:\n",
    "            DP[i] = max(DP[i], DP[j])\n",
    "    DP[i] += rocked[i][1]\n",
    "    \n",
    "max_height = max(DP)\n",
    "result = []\n",
    "i = N\n",
    "for _ in range(N,0, -1):\n",
    "    if DP[_] == max_height:\n",
    "        i= _\n",
    "        break\n",
    "while i!=0 :\n",
    "    result.append(rocked[i][3])\n",
    "    for j in range(i-1,-1,-1):\n",
    "        if DP[i] - rocked[i][1] == DP[j]:\n",
    "            i = j\n",
    "            break\n",
    "    \n",
    "print(len(result))\n",
    "result.reverse()\n",
    "print(\"\\n\".join(map(str,result)))\n",
    "    "
   ]
  }
 ],
 "metadata": {
  "kernelspec": {
   "display_name": "Python 3",
   "language": "python",
   "name": "python3"
  },
  "language_info": {
   "codemirror_mode": {
    "name": "ipython",
    "version": 3
   },
   "file_extension": ".py",
   "mimetype": "text/x-python",
   "name": "python",
   "nbconvert_exporter": "python",
   "pygments_lexer": "ipython3",
   "version": "3.8.5"
  }
 },
 "nbformat": 4,
 "nbformat_minor": 4
}
