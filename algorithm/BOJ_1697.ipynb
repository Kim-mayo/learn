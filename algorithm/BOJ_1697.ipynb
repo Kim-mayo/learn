{
 "cells": [
  {
   "cell_type": "code",
   "execution_count": 3,
   "metadata": {},
   "outputs": [
    {
     "name": "stdout",
     "output_type": "stream",
     "text": [
      "5 17\n",
      "4\n"
     ]
    }
   ],
   "source": [
    "from collections import deque\n",
    "def bfs(N,K):\n",
    "    deq = deque()\n",
    "    deq.append(N)\n",
    "    visited = [False]*200001\n",
    "    count = 0\n",
    "    while deq:\n",
    "        qsize = len(deq)\n",
    "        for _ in range(qsize):\n",
    "            v = deq.popleft()\n",
    "            if v == K:\n",
    "                return count\n",
    "            if visited[v] == True:\n",
    "                continue\n",
    "            visited[v] = True\n",
    "            \n",
    "            if v+1 <= 200000 and visited[v+1] == False:\n",
    "                deq.append(v+1)\n",
    "            if v-1 >= 0 and visited[v-1] == False:\n",
    "                deq.append(v-1)\n",
    "            if 2*v <=200000 and visited[2*v] == False:\n",
    "                deq.append(2*v)\n",
    "        count+=1\n",
    "    \n",
    "N ,K = map(int, input().split())\n",
    "print(bfs(N,K))"
   ]
  }
 ],
 "metadata": {
  "kernelspec": {
   "display_name": "Python 3",
   "language": "python",
   "name": "python3"
  },
  "language_info": {
   "codemirror_mode": {
    "name": "ipython",
    "version": 3
   },
   "file_extension": ".py",
   "mimetype": "text/x-python",
   "name": "python",
   "nbconvert_exporter": "python",
   "pygments_lexer": "ipython3",
   "version": "3.8.5"
  }
 },
 "nbformat": 4,
 "nbformat_minor": 4
}
