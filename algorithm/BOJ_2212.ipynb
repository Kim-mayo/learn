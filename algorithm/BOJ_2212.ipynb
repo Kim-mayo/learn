{
 "cells": [
  {
   "cell_type": "code",
   "execution_count": 2,
   "metadata": {},
   "outputs": [
    {
     "name": "stdout",
     "output_type": "stream",
     "text": [
      "6\n",
      "2\n",
      "1 6 9 3 6 7\n",
      "5\n"
     ]
    }
   ],
   "source": [
    "import sys\n",
    "input = sys.stdin.readline\n",
    "N = int(input())\n",
    "K = int(input())\n",
    "road = list(map(int, input().split()))\n",
    "road.sort()\n",
    "gap = []\n",
    "for i in range(1, len(road)):\n",
    "    gap.append(road[i] - road[i-1])\n",
    "K -= 1\n",
    "while K!=0:\n",
    "    max_value = 0\n",
    "    for data in gap:\n",
    "        if data > max_value:\n",
    "            max_value = data\n",
    "    for i in range(len(gap)):\n",
    "        if max_value == gap[i]:\n",
    "            gap[i] = 0\n",
    "            break\n",
    "    K -= 1\n",
    "total = 0\n",
    "for data in gap:\n",
    "    total += data\n",
    "print(total)"
   ]
  }
 ],
 "metadata": {
  "kernelspec": {
   "display_name": "Python 3",
   "language": "python",
   "name": "python3"
  },
  "language_info": {
   "codemirror_mode": {
    "name": "ipython",
    "version": 3
   },
   "file_extension": ".py",
   "mimetype": "text/x-python",
   "name": "python",
   "nbconvert_exporter": "python",
   "pygments_lexer": "ipython3",
   "version": "3.8.5"
  }
 },
 "nbformat": 4,
 "nbformat_minor": 4
}
