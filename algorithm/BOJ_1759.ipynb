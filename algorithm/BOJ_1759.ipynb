{
 "cells": [
  {
   "cell_type": "code",
   "execution_count": 11,
   "metadata": {},
   "outputs": [
    {
     "name": "stdout",
     "output_type": "stream",
     "text": [
      "4 6\n",
      "a t c i s w\n",
      "acis\n",
      "acit\n",
      "aciw\n",
      "acst\n",
      "acsw\n",
      "actw\n",
      "aist\n",
      "aisw\n",
      "aitw\n",
      "astw\n",
      "cist\n",
      "cisw\n",
      "citw\n",
      "istw\n"
     ]
    }
   ],
   "source": [
    "import sys\n",
    "input = sys.stdin.readline\n",
    "L,C = map(int,input().split())\n",
    "result = []\n",
    "def bf(index, lc, rc , pick):\n",
    "    if index == C:\n",
    "        if len(pick) == L:\n",
    "            if lc>=1 and rc>=2:\n",
    "                result.append(''.join(map(str,pick)))\n",
    "        return\n",
    "    \n",
    "    if len(pick) == L:\n",
    "        if lc >=1 and rc>=2 :\n",
    "            result.append(''.join(map(str,pick)))\n",
    "    elif len(pick) <L:\n",
    "        pick.append(T[index])\n",
    "        if T[index] == 'a' or T[index] == 'e' or T[index] == 'i' or T[index] == 'o' or T[index] == 'u':\n",
    "            bf(index+1,lc+1,rc,pick)\n",
    "        else:\n",
    "            bf(index+1,lc,rc+1,pick)\n",
    "        pick.pop()\n",
    "        bf(index+1,lc,rc,pick)\n",
    "        \n",
    "    return\n",
    "            \n",
    "\n",
    "\n",
    "T = list(map(str, input().split()))\n",
    "T.sort()\n",
    "bf(0,0,0,[])\n",
    "result.sort()\n",
    "print('\\n'.join(map(str,result)))"
   ]
  }
 ],
 "metadata": {
  "kernelspec": {
   "display_name": "Python 3",
   "language": "python",
   "name": "python3"
  },
  "language_info": {
   "codemirror_mode": {
    "name": "ipython",
    "version": 3
   },
   "file_extension": ".py",
   "mimetype": "text/x-python",
   "name": "python",
   "nbconvert_exporter": "python",
   "pygments_lexer": "ipython3",
   "version": "3.8.5"
  }
 },
 "nbformat": 4,
 "nbformat_minor": 4
}
