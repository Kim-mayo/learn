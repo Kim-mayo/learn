{
 "cells": [
  {
   "cell_type": "code",
   "execution_count": 49,
   "metadata": {},
   "outputs": [
    {
     "name": "stdout",
     "output_type": "stream",
     "text": [
      "7\n",
      "1010101\n",
      "1010101\n",
      "1010101\n",
      "1010101\n",
      "1010101\n",
      "1010101\n",
      "1010101\n",
      "4\n",
      "7\n",
      "7\n",
      "7\n",
      "7\n"
     ]
    }
   ],
   "source": [
    "dx = [-1,0,1,0]\n",
    "dy = [0,1,0,-1]\n",
    "\n",
    "def range_check(i,j,N):\n",
    "    return 0<=i and i<N and 0<= j and j<N\n",
    "\n",
    "def dfs(arr, visited , i, j , N,group_number):\n",
    "    if visited[i*N+j] != -1:\n",
    "        return 0\n",
    "    \n",
    "    visited[i*N+j] = group_number\n",
    "    ret = 0\n",
    "    for index in range(4):\n",
    "        nx = i + dx[index]\n",
    "        ny = j + dy[index]\n",
    "        if range_check(nx,ny,N) == True:\n",
    "            if arr[nx][ny] == '1' and visited[nx*N+ny] == -1:\n",
    "                ret += dfs(arr, visited, nx, ny, N, group_number)\n",
    "                \n",
    "    return ret+1        \n",
    "    \n",
    "if __name__ == \"__main__\":\n",
    "    \n",
    "    N = int(input())\n",
    "    arr = list([ '' for i in range(N)])\n",
    "    visited = [ -1 for i in range(N) for j in range(N)]\n",
    "    group_number = 0\n",
    "    result = []\n",
    "    \n",
    "    for i in range(N):\n",
    "        arr[i] = input()\n",
    "    \n",
    "    # ok\n",
    "    for i in range(N):\n",
    "        for j in range(N):\n",
    "            if visited[i*N+j] == -1 and arr[i][j] == '1':\n",
    "                cnt = dfs(arr, visited , i , j , N, group_number)\n",
    "                group_number+=1\n",
    "                result.append(cnt)\n",
    "                \n",
    "    result.sort()\n",
    "    print(group_number)\n",
    "    print('\\n'.join(map(str, result)))\n",
    "    \n",
    "                \n"
   ]
  }
 ],
 "metadata": {
  "kernelspec": {
   "display_name": "Python 3",
   "language": "python",
   "name": "python3"
  },
  "language_info": {
   "codemirror_mode": {
    "name": "ipython",
    "version": 3
   },
   "file_extension": ".py",
   "mimetype": "text/x-python",
   "name": "python",
   "nbconvert_exporter": "python",
   "pygments_lexer": "ipython3",
   "version": "3.8.5"
  }
 },
 "nbformat": 4,
 "nbformat_minor": 4
}
