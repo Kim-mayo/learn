{
 "cells": [
  {
   "cell_type": "code",
   "execution_count": 20,
   "metadata": {},
   "outputs": [
    {
     "name": "stdout",
     "output_type": "stream",
     "text": [
      "4 7\n",
      "6 13\n",
      "4 8\n",
      "3 6\n",
      "5 12\n",
      "14\n"
     ]
    }
   ],
   "source": [
    "import sys\n",
    "N, K = map(int, sys.stdin.readline().split())\n",
    "DP = [[0] *(K+1) for _ in range(2)]\n",
    "for i in range(0,N):\n",
    "    W, V = map(int,sys.stdin.readline().split())\n",
    "    for j in range(0,K+1):\n",
    "        if j-W>=0:\n",
    "            DP[i%2][j] = max(DP[(i+1)%2][j] , DP[(i+1)%2][j-W] + V)\n",
    "        else:\n",
    "            DP[i%2][j] = DP[(i+1)%2][j]\n",
    "        \n",
    "print(DP[(N+1)%2][K])"
   ]
  }
 ],
 "metadata": {
  "kernelspec": {
   "display_name": "Python 3",
   "language": "python",
   "name": "python3"
  },
  "language_info": {
   "codemirror_mode": {
    "name": "ipython",
    "version": 3
   },
   "file_extension": ".py",
   "mimetype": "text/x-python",
   "name": "python",
   "nbconvert_exporter": "python",
   "pygments_lexer": "ipython3",
   "version": "3.8.5"
  }
 },
 "nbformat": 4,
 "nbformat_minor": 4
}
