{
 "cells": [
  {
   "cell_type": "code",
   "execution_count": 14,
   "metadata": {
    "scrolled": true
   },
   "outputs": [
    {
     "name": "stdout",
     "output_type": "stream",
     "text": [
      "8\n",
      "4\n",
      "3\n",
      "6\n",
      "8\n",
      "7\n",
      "5\n",
      "2\n",
      "1\n",
      "+\n",
      "+\n",
      "+\n",
      "+\n",
      "-\n",
      "-\n",
      "+\n",
      "+\n",
      "-\n",
      "+\n",
      "+\n",
      "-\n",
      "-\n",
      "-\n",
      "-\n",
      "-\n"
     ]
    }
   ],
   "source": [
    "def solve(Stack_arr,N):\n",
    "    Stack = []\n",
    "    in_value= 1\n",
    "    index =0\n",
    "    result = []\n",
    "    while index < N:\n",
    "        if Stack_arr[index] == in_value:\n",
    "            result.append('+')\n",
    "            result.append('-')\n",
    "            in_value+=1\n",
    "            index+=1\n",
    "        elif Stack_arr[index] > in_value:\n",
    "            result.append('+')\n",
    "            Stack.append(in_value)\n",
    "            in_value += 1\n",
    "        else:\n",
    "            if len(Stack) ==0 or Stack_arr[index] != Stack[-1]:\n",
    "                return None\n",
    "            else:\n",
    "                result.append('-')\n",
    "                del Stack[-1]\n",
    "                index += 1\n",
    "    return result\n",
    "    \n",
    "N = int(input())\n",
    "Stack_arr = []\n",
    "for i in range(N):\n",
    "    value = int(input())\n",
    "    Stack_arr.append(value)\n",
    "result = solve(Stack_arr,N)\n",
    "if result == None:\n",
    "    print(\"NO\")\n",
    "else:\n",
    "    for data in result:\n",
    "        print(data)\n",
    "    "
   ]
  },
  {
   "cell_type": "code",
   "execution_count": null,
   "metadata": {},
   "outputs": [],
   "source": []
  }
 ],
 "metadata": {
  "kernelspec": {
   "display_name": "Python 3",
   "language": "python",
   "name": "python3"
  },
  "language_info": {
   "codemirror_mode": {
    "name": "ipython",
    "version": 3
   },
   "file_extension": ".py",
   "mimetype": "text/x-python",
   "name": "python",
   "nbconvert_exporter": "python",
   "pygments_lexer": "ipython3",
   "version": "3.8.5"
  }
 },
 "nbformat": 4,
 "nbformat_minor": 4
}
