{
 "cells": [
  {
   "cell_type": "code",
   "execution_count": 1,
   "metadata": {},
   "outputs": [
    {
     "name": "stdout",
     "output_type": "stream",
     "text": [
      "7\n",
      "6\n",
      "1 2\n",
      "2 3\n",
      "1 5\n",
      "5 2\n",
      "5 6\n",
      "4 7\n",
      "4\n"
     ]
    }
   ],
   "source": [
    "import sys\n",
    "from collections import deque\n",
    "Computer = int(sys.stdin.readline())\n",
    "N = int(sys.stdin.readline())\n",
    "graph = [ [] for i in range(Computer+1)]\n",
    "def bfs():\n",
    "    queue = deque()\n",
    "    visited = [False] * (Computer+1)\n",
    "    queue.append(1)\n",
    "    while queue:\n",
    "        curr = queue.popleft()\n",
    "        if visited[curr] == True:\n",
    "            continue\n",
    "        visited[curr] = True\n",
    "        \n",
    "        for next_node in graph[curr]:\n",
    "            if visited[next_node] == True:\n",
    "                continue\n",
    "            queue.append(next_node)\n",
    "    count = 0\n",
    "    for i in range(2,Computer+1):\n",
    "        if visited[i] == True:\n",
    "            count+=1\n",
    "    return count\n",
    "        \n",
    "for _ in range(N):\n",
    "    a ,b = map(int, sys.stdin.readline().split())\n",
    "    graph[a].append(b)\n",
    "    graph[b].append(a)\n",
    "print(bfs())"
   ]
  }
 ],
 "metadata": {
  "kernelspec": {
   "display_name": "Python 3",
   "language": "python",
   "name": "python3"
  },
  "language_info": {
   "codemirror_mode": {
    "name": "ipython",
    "version": 3
   },
   "file_extension": ".py",
   "mimetype": "text/x-python",
   "name": "python",
   "nbconvert_exporter": "python",
   "pygments_lexer": "ipython3",
   "version": "3.8.5"
  }
 },
 "nbformat": 4,
 "nbformat_minor": 4
}
