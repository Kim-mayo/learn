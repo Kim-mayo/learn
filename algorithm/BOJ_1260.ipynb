{
 "cells": [
  {
   "cell_type": "code",
   "execution_count": 12,
   "metadata": {},
   "outputs": [
    {
     "name": "stdout",
     "output_type": "stream",
     "text": [
      "4\n",
      "5\n",
      "1\n",
      "1 2\n",
      "1 3\n",
      "1 4\n",
      "2 4\n",
      "3 4\n",
      "1 2 4 3 \n",
      "1 2 3 4 "
     ]
    }
   ],
   "source": [
    "import sys\n",
    "\n",
    "def dfs(graph, start):\n",
    "    visited , st = list() , list()\n",
    "    st.append(start)\n",
    "    \n",
    "    while st:\n",
    "        curr_node = st.pop()\n",
    "        if curr_node not in visited:\n",
    "            visited.append(curr_node)\n",
    "            rev = reversed(graph[curr_node])\n",
    "            st.extend(rev)\n",
    "    return visited\n",
    "\n",
    "def bfs(graph, start):\n",
    "    visited , que = list(), list()\n",
    "    que.append(start)\n",
    "    \n",
    "    while que:\n",
    "        curr_node = que.pop(0)\n",
    "        if curr_node not in visited:\n",
    "            visited.append(curr_node)\n",
    "            que.extend(graph[curr_node])\n",
    "    return visited\n",
    "\n",
    "if __name__ == \"__main__\":\n",
    "    \n",
    "    n , m , v= map(int, input().split())\n",
    "    graph = list([ [] for i in range(n+1)])\n",
    "    for i in range(m):\n",
    "        x, y = map(int, sys.stdin.readline().split())\n",
    "        graph[x].append(y)\n",
    "        graph[y].append(x)\n",
    "\n",
    "    for i in range(n+1):\n",
    "        graph[i].sort()\n",
    "    \n",
    "    print(' '.join(map(str,dfs(graph,v))))\n",
    "    print(' '.join(map(str,bfs(graph,v))))\n",
    "    \n",
    "\n",
    "\n"
   ]
  }
 ],
 "metadata": {
  "kernelspec": {
   "display_name": "Python 3",
   "language": "python",
   "name": "python3"
  },
  "language_info": {
   "codemirror_mode": {
    "name": "ipython",
    "version": 3
   },
   "file_extension": ".py",
   "mimetype": "text/x-python",
   "name": "python",
   "nbconvert_exporter": "python",
   "pygments_lexer": "ipython3",
   "version": "3.8.5"
  }
 },
 "nbformat": 4,
 "nbformat_minor": 4
}
