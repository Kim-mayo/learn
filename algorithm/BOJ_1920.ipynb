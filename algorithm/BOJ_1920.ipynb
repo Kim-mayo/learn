{
 "cells": [
  {
   "cell_type": "code",
   "execution_count": 5,
   "metadata": {},
   "outputs": [
    {
     "name": "stdout",
     "output_type": "stream",
     "text": [
      "5\n",
      "1 3 10 60 80\n",
      "4\n",
      "60 80 10 4\n",
      "1\n",
      "1\n",
      "1\n",
      "0\n"
     ]
    }
   ],
   "source": [
    "import sys\n",
    "def binary_search(data,key):\n",
    "    lo, hi = 0, len(data)-1\n",
    "    while lo <=hi:\n",
    "        mid = (lo+hi)//2\n",
    "        if data[mid] == key:\n",
    "            return 1\n",
    "        elif data[mid] > key:\n",
    "            hi = mid-1\n",
    "        else:\n",
    "            lo = mid+1\n",
    "    return 0\n",
    "\n",
    "N = int(input())\n",
    "A = list(map(int, input().split()))\n",
    "A.sort()\n",
    "M = int(input())\n",
    "B = map(int, input().split())\n",
    "\n",
    "for target in B:\n",
    "    print(binary_search(A,target))\n"
   ]
  }
 ],
 "metadata": {
  "kernelspec": {
   "display_name": "Python 3",
   "language": "python",
   "name": "python3"
  },
  "language_info": {
   "codemirror_mode": {
    "name": "ipython",
    "version": 3
   },
   "file_extension": ".py",
   "mimetype": "text/x-python",
   "name": "python",
   "nbconvert_exporter": "python",
   "pygments_lexer": "ipython3",
   "version": "3.8.5"
  }
 },
 "nbformat": 4,
 "nbformat_minor": 4
}
