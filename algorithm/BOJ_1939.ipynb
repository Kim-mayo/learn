{
 "cells": [
  {
   "cell_type": "code",
   "execution_count": 15,
   "metadata": {},
   "outputs": [
    {
     "name": "stdout",
     "output_type": "stream",
     "text": [
      "3 3\n",
      "1 2 2\n",
      "3 1 3\n",
      "2 3 2\n",
      "1 3\n"
     ]
    },
    {
     "ename": "AttributeError",
     "evalue": "'collections.deque' object has no attribute 'leftpop'",
     "output_type": "error",
     "traceback": [
      "\u001b[1;31m---------------------------------------------------------------------------\u001b[0m",
      "\u001b[1;31mAttributeError\u001b[0m                            Traceback (most recent call last)",
      "\u001b[1;32m<ipython-input-15-5a57749ada2c>\u001b[0m in \u001b[0;36m<module>\u001b[1;34m\u001b[0m\n\u001b[0;32m     48\u001b[0m         \u001b[0mmid\u001b[0m \u001b[1;33m=\u001b[0m \u001b[1;33m(\u001b[0m\u001b[0mlo\u001b[0m\u001b[1;33m+\u001b[0m\u001b[0mhi\u001b[0m\u001b[1;33m)\u001b[0m\u001b[1;33m//\u001b[0m\u001b[1;36m2\u001b[0m\u001b[1;33m\u001b[0m\u001b[1;33m\u001b[0m\u001b[0m\n\u001b[0;32m     49\u001b[0m         \u001b[0mvisited\u001b[0m \u001b[1;33m=\u001b[0m \u001b[1;33m[\u001b[0m\u001b[1;32mFalse\u001b[0m\u001b[1;33m]\u001b[0m\u001b[1;33m*\u001b[0m\u001b[1;33m(\u001b[0m\u001b[0mN\u001b[0m\u001b[1;33m+\u001b[0m\u001b[1;36m1\u001b[0m\u001b[1;33m)\u001b[0m\u001b[1;33m\u001b[0m\u001b[1;33m\u001b[0m\u001b[0m\n\u001b[1;32m---> 50\u001b[1;33m         \u001b[1;32mif\u001b[0m \u001b[0mbfs\u001b[0m\u001b[1;33m(\u001b[0m\u001b[0medge\u001b[0m\u001b[1;33m,\u001b[0m\u001b[0mstart\u001b[0m\u001b[1;33m,\u001b[0m\u001b[0mmid\u001b[0m\u001b[1;33m,\u001b[0m\u001b[0mvisited\u001b[0m\u001b[1;33m,\u001b[0m\u001b[0mend\u001b[0m\u001b[1;33m)\u001b[0m \u001b[1;33m==\u001b[0m \u001b[1;32mTrue\u001b[0m\u001b[1;33m:\u001b[0m\u001b[1;33m\u001b[0m\u001b[1;33m\u001b[0m\u001b[0m\n\u001b[0m\u001b[0;32m     51\u001b[0m             \u001b[0mresult\u001b[0m \u001b[1;33m=\u001b[0m \u001b[0mmid\u001b[0m\u001b[1;33m\u001b[0m\u001b[1;33m\u001b[0m\u001b[0m\n\u001b[0;32m     52\u001b[0m             \u001b[0mlo\u001b[0m \u001b[1;33m=\u001b[0m \u001b[0mmid\u001b[0m\u001b[1;33m+\u001b[0m\u001b[1;36m1\u001b[0m\u001b[1;33m\u001b[0m\u001b[1;33m\u001b[0m\u001b[0m\n",
      "\u001b[1;32m<ipython-input-15-5a57749ada2c>\u001b[0m in \u001b[0;36mbfs\u001b[1;34m(edge, node, weight, visited, end)\u001b[0m\n\u001b[0;32m     21\u001b[0m     \u001b[0mdeq\u001b[0m\u001b[1;33m.\u001b[0m\u001b[0mappend\u001b[0m\u001b[1;33m(\u001b[0m\u001b[0mnode\u001b[0m\u001b[1;33m)\u001b[0m\u001b[1;33m\u001b[0m\u001b[1;33m\u001b[0m\u001b[0m\n\u001b[0;32m     22\u001b[0m     \u001b[1;32mwhile\u001b[0m \u001b[0mdeq\u001b[0m\u001b[1;33m:\u001b[0m\u001b[1;33m\u001b[0m\u001b[1;33m\u001b[0m\u001b[0m\n\u001b[1;32m---> 23\u001b[1;33m         \u001b[0mcurr_node\u001b[0m \u001b[1;33m=\u001b[0m \u001b[0mdeq\u001b[0m\u001b[1;33m.\u001b[0m\u001b[0mleftpop\u001b[0m\u001b[1;33m(\u001b[0m\u001b[1;33m)\u001b[0m\u001b[1;33m\u001b[0m\u001b[1;33m\u001b[0m\u001b[0m\n\u001b[0m\u001b[0;32m     24\u001b[0m         \u001b[1;32mif\u001b[0m \u001b[0mcurr_node\u001b[0m \u001b[1;33m==\u001b[0m \u001b[0mend\u001b[0m\u001b[1;33m:\u001b[0m\u001b[1;33m\u001b[0m\u001b[1;33m\u001b[0m\u001b[0m\n\u001b[0;32m     25\u001b[0m             \u001b[1;32mreturn\u001b[0m \u001b[1;32mTrue\u001b[0m\u001b[1;33m\u001b[0m\u001b[1;33m\u001b[0m\u001b[0m\n",
      "\u001b[1;31mAttributeError\u001b[0m: 'collections.deque' object has no attribute 'leftpop'"
     ]
    }
   ],
   "source": [
    "import sys\n",
    "from collections import deque\n",
    "sys.setrecursionlimit(10**6)\n",
    "def dfs(edge, node, weight, visited,end):\n",
    "    \n",
    "    if node == end:\n",
    "        return True\n",
    "    \n",
    "    visited[node] = True\n",
    "    for next_node, edge_weight in edge[node]:\n",
    "        if visited[next_node] == True or edge_weight < weight:\n",
    "            continue\n",
    "        ret = dfs(edge, next_node, weight, visited, end)\n",
    "        if ret == True:\n",
    "            return True\n",
    "        \n",
    "    return False\n",
    "\n",
    "def bfs(edge,node,weight,visited,end):\n",
    "    deq = deque()\n",
    "    deq.append(node)\n",
    "    while deq:\n",
    "        curr_node = deq.popleft()\n",
    "        if curr_node == end:\n",
    "            return True\n",
    "        if visited[curr_node] == True:\n",
    "            continue\n",
    "        visited[curr_node] = True\n",
    "        for next_node , edge_weight in edge[curr_node]:\n",
    "            if visited[next_node] == True or edge_weight < weight:\n",
    "                continue\n",
    "            if next_node == end:\n",
    "                return True\n",
    "            deq.append(next_node)\n",
    "    return False\n",
    "\n",
    "if __name__ == \"__main__\":\n",
    "    N,M=map(int, sys.stdin.readline().split())\n",
    "    edge = list([ [] for _ in range(N+1)])\n",
    "    lo , hi = 1000000000, 0\n",
    "    for _ in range(M):\n",
    "        A, B , C = map(int, sys.stdin.readline().split())\n",
    "        edge[A].append([B,C])\n",
    "        edge[B].append([A,C])\n",
    "    start,end=map(int, sys.stdin.readline().split())\n",
    "    \n",
    "    lo , hi = 1000000000, 0\n",
    "    result = 0\n",
    "    while lo<=hi:\n",
    "        mid = (lo+hi)//2\n",
    "        visited = [False]*(N+1)\n",
    "        if bfs(edge,start,mid,visited,end) == True:\n",
    "            result = mid\n",
    "            lo = mid+1\n",
    "        else:\n",
    "            hi = mid-1\n",
    "    print(result)"
   ]
  }
 ],
 "metadata": {
  "kernelspec": {
   "display_name": "Python 3",
   "language": "python",
   "name": "python3"
  },
  "language_info": {
   "codemirror_mode": {
    "name": "ipython",
    "version": 3
   },
   "file_extension": ".py",
   "mimetype": "text/x-python",
   "name": "python",
   "nbconvert_exporter": "python",
   "pygments_lexer": "ipython3",
   "version": "3.8.5"
  }
 },
 "nbformat": 4,
 "nbformat_minor": 4
}
