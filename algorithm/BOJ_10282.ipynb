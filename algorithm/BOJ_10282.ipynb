{
 "cells": [
  {
   "cell_type": "code",
   "execution_count": 6,
   "metadata": {},
   "outputs": [
    {
     "name": "stdout",
     "output_type": "stream",
     "text": [
      "2\n",
      "3 2 2\n",
      "2 1 5\n",
      "3 2 5\n",
      "2 5\n",
      "3 3 1\n",
      "2 1 2 \n",
      "3 1 8\n",
      "3 2 4\n",
      "3 6\n"
     ]
    }
   ],
   "source": [
    "import sys\n",
    "import heapq\n",
    "TC= int(sys.stdin.readline())\n",
    "def dijkstra(graph, start , n):\n",
    "    queue = []\n",
    "    dist = [10**9+1] * (n+1)\n",
    "    heapq.heappush(queue, (0,start))\n",
    "    while queue:\n",
    "        curr_weight, curr_node = heapq.heappop(queue)\n",
    "        if dist[curr_node] != 10**9+1:\n",
    "            continue\n",
    "        dist[curr_node] = curr_weight\n",
    "        for next_node , next_weight in graph[curr_node]:\n",
    "            if dist[next_node] != 10**9+1:\n",
    "                continue\n",
    "            heapq.heappush(queue, (curr_weight+next_weight, next_node))\n",
    "    count = 0\n",
    "    max_time = 0\n",
    "    for i in range(1,n+1):\n",
    "        if dist[i] != 10**9+1:\n",
    "            count +=1\n",
    "            max_time = max(max_time, dist[i])\n",
    "    return count , max_time\n",
    "\n",
    "for _ in range(TC):\n",
    "    n,d,c = map(int,sys.stdin.readline().split())\n",
    "    graph = [ [] for __ in range(n+1)]\n",
    "    for __ in range(d):\n",
    "        a,b,s = map(int,sys.stdin.readline().split())\n",
    "        graph[b].append((a,s))\n",
    "    print(\" \".join(map(str,dijkstra(graph, c, n))))"
   ]
  }
 ],
 "metadata": {
  "kernelspec": {
   "display_name": "Python 3",
   "language": "python",
   "name": "python3"
  },
  "language_info": {
   "codemirror_mode": {
    "name": "ipython",
    "version": 3
   },
   "file_extension": ".py",
   "mimetype": "text/x-python",
   "name": "python",
   "nbconvert_exporter": "python",
   "pygments_lexer": "ipython3",
   "version": "3.8.5"
  }
 },
 "nbformat": 4,
 "nbformat_minor": 4
}
