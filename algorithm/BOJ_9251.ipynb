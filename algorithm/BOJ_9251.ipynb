{
 "cells": [
  {
   "cell_type": "code",
   "execution_count": 6,
   "metadata": {},
   "outputs": [
    {
     "name": "stdout",
     "output_type": "stream",
     "text": [
      "ACAYKP\n",
      "CAPCAK\n",
      "4\n"
     ]
    }
   ],
   "source": [
    "A = ' '\n",
    "B = ' '\n",
    "A += input()\n",
    "B += input()\n",
    "\n",
    "DP = [[0]*(len(B)) for _ in range(len(A))]\n",
    "for i in range(1,len(A)):\n",
    "    for j in range(1,len(B)):\n",
    "        if A[i] == B[j]:\n",
    "            DP[i][j] = DP[i-1][j-1] + 1\n",
    "        else:\n",
    "            DP[i][j] = max(DP[i-1][j] , DP[i][j-1])\n",
    "print(DP[len(A)-1][len(B)-1])"
   ]
  }
 ],
 "metadata": {
  "kernelspec": {
   "display_name": "Python 3",
   "language": "python",
   "name": "python3"
  },
  "language_info": {
   "codemirror_mode": {
    "name": "ipython",
    "version": 3
   },
   "file_extension": ".py",
   "mimetype": "text/x-python",
   "name": "python",
   "nbconvert_exporter": "python",
   "pygments_lexer": "ipython3",
   "version": "3.8.5"
  }
 },
 "nbformat": 4,
 "nbformat_minor": 4
}
