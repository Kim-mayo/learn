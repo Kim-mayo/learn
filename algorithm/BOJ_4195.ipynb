{
 "cells": [
  {
   "cell_type": "code",
   "execution_count": 5,
   "metadata": {},
   "outputs": [
    {
     "name": "stdout",
     "output_type": "stream",
     "text": [
      "2\n",
      "3\n",
      "Fred Barney\n",
      "2\n",
      "Barney Betty\n",
      "3\n",
      "Betty Wilma\n",
      "4\n",
      "3\n",
      "Fred Barney\n",
      "2\n",
      "Betty Wilma\n",
      "2\n",
      "Barney Betty\n",
      "4\n"
     ]
    }
   ],
   "source": [
    "from collections import defaultdict\n",
    "import sys\n",
    "\n",
    "def find(parent, a):\n",
    "    if parent[a] != a:\n",
    "        parent[a] = find(parent, parent[a])\n",
    "    return parent[a]\n",
    "\n",
    "def merge(parent, count,rank, u, v):\n",
    "    U = find(parent,u)\n",
    "    V = find(parent,v)\n",
    "    \n",
    "    if rank[U] > rank[V]:\n",
    "        parent[V] = U\n",
    "        count[U] += count[V]\n",
    "        count[V] =0\n",
    "        print(count[U])\n",
    "    else:\n",
    "        parent[U] = V\n",
    "        count[V] += count[U]\n",
    "        count[U] =0\n",
    "        print(count[V])\n",
    "        if rank[U] == rank[V]:\n",
    "            rank[V] += 1\n",
    "    return\n",
    "    \n",
    "\n",
    "TC = int(input())\n",
    "for _ in range(TC):\n",
    "    N = int(input())\n",
    "    parent = defaultdict()\n",
    "    count = defaultdict()\n",
    "    rank = defaultdict()\n",
    "    for __ in range(N):\n",
    "        a , b = sys.stdin.readline().split()\n",
    "        if a not in parent:\n",
    "            parent[a] = a\n",
    "            count[a] = 1\n",
    "            rank[a] = 0\n",
    "        if b not in parent:\n",
    "            parent[b] = b\n",
    "            count[b] = 1\n",
    "            rank[b] = 0\n",
    "        if find(parent,a) != find(parent,b):\n",
    "            merge(parent, count,rank, a, b)\n",
    "            \n",
    "        else:\n",
    "            print(count[find(parent,a)])"
   ]
  },
  {
   "cell_type": "code",
   "execution_count": null,
   "metadata": {},
   "outputs": [],
   "source": []
  }
 ],
 "metadata": {
  "kernelspec": {
   "display_name": "Python 3",
   "language": "python",
   "name": "python3"
  },
  "language_info": {
   "codemirror_mode": {
    "name": "ipython",
    "version": 3
   },
   "file_extension": ".py",
   "mimetype": "text/x-python",
   "name": "python",
   "nbconvert_exporter": "python",
   "pygments_lexer": "ipython3",
   "version": "3.8.5"
  }
 },
 "nbformat": 4,
 "nbformat_minor": 4
}
