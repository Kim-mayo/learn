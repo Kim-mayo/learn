{
 "cells": [
  {
   "cell_type": "code",
   "execution_count": 5,
   "metadata": {},
   "outputs": [
    {
     "name": "stdout",
     "output_type": "stream",
     "text": [
      "3\n",
      "6 8 9\n",
      "5\n",
      "2 5 2 4 7\n",
      "2\n"
     ]
    }
   ],
   "source": [
    "import sys\n",
    "input = sys.stdin.readline\n",
    "N = int(input())\n",
    "c = list(map(int,input().split()))\n",
    "M= int(input())\n",
    "b = list(map(int,input().split()))\n",
    "c = sorted(c, reverse=True)\n",
    "b = sorted(b, reverse=True)\n",
    "if b[0] > c[0]:\n",
    "    print(-1)\n",
    "    exit()\n",
    "    \n",
    "ok = [False]*M\n",
    "lo = [0] * N\n",
    "time = 0\n",
    "count = 0\n",
    "while True:\n",
    "    if count == len(b):\n",
    "        break\n",
    "    for i in range(N):\n",
    "        while lo[i] < M:\n",
    "            if ok[lo[i]] == False and c[i] >= b[lo[i]]:\n",
    "                count += 1\n",
    "                ok[lo[i]] = True\n",
    "                lo[i] += 1\n",
    "                break\n",
    "            lo[i] += 1       \n",
    "    time += 1\n",
    "print(time)\n",
    "                "
   ]
  }
 ],
 "metadata": {
  "kernelspec": {
   "display_name": "Python 3",
   "language": "python",
   "name": "python3"
  },
  "language_info": {
   "codemirror_mode": {
    "name": "ipython",
    "version": 3
   },
   "file_extension": ".py",
   "mimetype": "text/x-python",
   "name": "python",
   "nbconvert_exporter": "python",
   "pygments_lexer": "ipython3",
   "version": "3.8.5"
  }
 },
 "nbformat": 4,
 "nbformat_minor": 4
}
