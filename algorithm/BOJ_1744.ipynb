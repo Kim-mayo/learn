{
 "cells": [
  {
   "cell_type": "code",
   "execution_count": 3,
   "metadata": {},
   "outputs": [
    {
     "name": "stdout",
     "output_type": "stream",
     "text": [
      "4 1\n",
      "1 1\n",
      "3 1\n",
      "2 3\n",
      "4 3\n",
      "1 4\n",
      "4.00\n"
     ]
    }
   ],
   "source": [
    "import sys\n",
    "import heapq\n",
    "import math\n",
    "input = sys.stdin.readline\n",
    "N,M=map(int,input().split())\n",
    "parent = [ i for i in range(N+1)]\n",
    "def find(a):\n",
    "    if parent[a] != a:\n",
    "        parent[a] = find(parent[a])\n",
    "    return parent[a]\n",
    "\n",
    "def merge(u,v):\n",
    "    u = find(u)\n",
    "    v = find(v)\n",
    "    parent[u] = v\n",
    "    return\n",
    "\n",
    "v = [(-1,-1)]\n",
    "for _ in range(N):\n",
    "    x,y = map(int,input().split())\n",
    "    v.append((x,y))\n",
    "queue = []\n",
    "for i in range(1,N+1):\n",
    "    for j in range(i+1,N+1):\n",
    "        dist = (v[i][0]-v[j][0])**2 + (v[i][1] - v[j][1])**2\n",
    "        heapq.heappush(queue, (math.sqrt(dist) , i, j))\n",
    "count = 0\n",
    "for _ in range(M):\n",
    "    u , v = map(int,input().split())\n",
    "    if find(u) == find(v):\n",
    "        continue\n",
    "    count += 1\n",
    "    merge(u,v)\n",
    "    \n",
    "result_dist = 0\n",
    "while queue:\n",
    "    if count == N-1:\n",
    "        break\n",
    "    dist,u,v = heapq.heappop(queue)\n",
    "    if find(u) == find(v):\n",
    "        continue\n",
    "    count += 1\n",
    "    merge(u,v)\n",
    "    result_dist += dist\n",
    "print(format(result_dist , \".2f\"))"
   ]
  }
 ],
 "metadata": {
  "kernelspec": {
   "display_name": "Python 3",
   "language": "python",
   "name": "python3"
  },
  "language_info": {
   "codemirror_mode": {
    "name": "ipython",
    "version": 3
   },
   "file_extension": ".py",
   "mimetype": "text/x-python",
   "name": "python",
   "nbconvert_exporter": "python",
   "pygments_lexer": "ipython3",
   "version": "3.8.5"
  }
 },
 "nbformat": 4,
 "nbformat_minor": 4
}
